{
 "metadata": {
  "name": "",
  "signature": "sha256:d7a7f87d96aecb9171846cc79830ade3b6f9400f82821780c97e275d4c7073f1"
 },
 "nbformat": 3,
 "nbformat_minor": 0,
 "worksheets": [
  {
   "cells": [
    {
     "cell_type": "code",
     "collapsed": false,
     "input": [
      "import numpy as np\n",
      "import matplotlib.pyplot as plt\n",
      "%matplotlib inline"
     ],
     "language": "python",
     "metadata": {},
     "outputs": [],
     "prompt_number": 1
    },
    {
     "cell_type": "code",
     "collapsed": false,
     "input": [
      "ls"
     ],
     "language": "python",
     "metadata": {},
     "outputs": [
      {
       "output_type": "stream",
       "stream": "stdout",
       "text": [
        "AAA_README_ha_v1+v2  v2_key_2012  v2_key_2013  v2_key_2014  Voyager_Data.ipynb\r\n"
       ]
      }
     ],
     "prompt_number": 2
    },
    {
     "cell_type": "code",
     "collapsed": false,
     "input": [
      "[line for line in open('AAA_README_ha_v1+v2')]"
     ],
     "language": "python",
     "metadata": {},
     "outputs": [
      {
       "metadata": {},
       "output_type": "pyout",
       "prompt_number": 5,
       "text": [
        "['The files in this directory contain the Voyager hourly average plasma data.\\n',\n",
        " 'The plasma parameters are obtained by finding the best fit of a convected\\n',\n",
        " 'isotropic Maxwellian distribution to the data. One sigma errors\\n',\n",
        " 'are typically less than 0.5% in the speed and VR, less than 5% for the\\n',\n",
        " 'density and thermal speed, and vary greatly for VT and VN.\\n',\n",
        " 'Sampling times range from 12 to 192 sec., with sampling generally more\\n',\n",
        " 'frequent early in the mission. The columns are:\\n',\n",
        " '\\n',\n",
        " '1) Year                                         \\n',\n",
        " '2) day of year (day 1 is Jan. 1)\\n',\n",
        " '3) hour\\n',\n",
        " '4) proton speed in km/s (magnitude of V)\\n',\n",
        " '5) proton density in cm-3\\n',\n",
        " '6) proton thermal speed in km/s (proton temperature in eV = .0052 times the square of the thermal speed)\\n',\n",
        " '7) VR\\n',\n",
        " '8) VT (WARNING: this parameter is often NOT reliable after 1989)\\n',\n",
        " '9) VN (WARNING: this parameter is often NOT reliable after 1989)\\n',\n",
        " '\\n',\n",
        " 'The velocity components are given in the RTN coordinate system,  \\n',\n",
        " 'where R is radially outward, T is in a plane parallel to the solar\\n',\n",
        " 'equatorial plane and positive in the direction of solar rotation,\\n',\n",
        " 'and N completes a right-handed system.\\n',\n",
        " ' \\n',\n",
        " 'Please consult with us, or at least send preprints, when you use this data to\\n',\n",
        " 'prevent grievous errors or misconceptions. (John Richardson, jdr@space.mit.edu)\\n']"
       ]
      }
     ],
     "prompt_number": 5
    },
    {
     "cell_type": "code",
     "collapsed": false,
     "input": [],
     "language": "python",
     "metadata": {},
     "outputs": []
    },
    {
     "cell_type": "code",
     "collapsed": false,
     "input": [
      "data12 = [line.split() for line in open('v2_key_2012')]\n",
      "data13 = [line.split() for line in open('v2_key_2013')]\n",
      "data14 = [line.split() for line in open('v2_key_2014')]"
     ],
     "language": "python",
     "metadata": {},
     "outputs": [],
     "prompt_number": 6
    },
    {
     "cell_type": "code",
     "collapsed": false,
     "input": [
      "data12[:5]"
     ],
     "language": "python",
     "metadata": {},
     "outputs": [
      {
       "metadata": {},
       "output_type": "pyout",
       "prompt_number": 8,
       "text": [
        "[['2012', '1', '8', '145.0', '0.00185', '28.1', '109.7', '94.4', '-9'],\n",
        " ['2012', '1', '9', '138.9', '0.00244', '29.6', '84.9', '83.9', '-71'],\n",
        " ['2012', '1', '10', '156.4', '0.00180', '27.4', '98.0', '118.5', '-28'],\n",
        " ['2012', '2', '12', '168.4', '0.00110', '24.9', '127.9', '82.3', '-72'],\n",
        " ['2012', '2', '13', '155.2', '0.00195', '29.9', '98.4', '87.8', '-81']]"
       ]
      }
     ],
     "prompt_number": 8
    },
    {
     "cell_type": "code",
     "collapsed": false,
     "input": [
      "plt.cla()\n",
      "plt.subplot(131)\n",
      "plt.plot([data12[i][5] for i in range(len(data12))])\n",
      "plt.subplot(132)\n",
      "plt.plot([data13[i][5] for i in range(len(data13))])\n",
      "plt.subplot(133)\n",
      "plt.plot([data14[i][5] for i in range(len(data14))])"
     ],
     "language": "python",
     "metadata": {},
     "outputs": [
      {
       "metadata": {},
       "output_type": "pyout",
       "prompt_number": 9,
       "text": [
        "[<matplotlib.lines.Line2D at 0xaf98072c>]"
       ]
      },
      {
       "metadata": {},
       "output_type": "display_data",
       "png": "[encoded data removed]",
       "text": [
        "<matplotlib.figure.Figure at 0xb024fa4c>"
       ]
      }
     ],
     "prompt_number": 9
    },
    {
     "cell_type": "code",
     "collapsed": false,
     "input": [
      "print np.mean(np.array([data12[i][5] for i in range(len(data12))], dtype=np.float64)), np.var(np.array([data12[i][5] for i in range(len(data12))], dtype=np.float64))\n",
      "print np.mean(np.array([data13[i][5] for i in range(len(data13))], dtype=np.float64)), np.var(np.array([data13[i][5] for i in range(len(data13))], dtype=np.float64))\n",
      "print np.mean(np.array([data14[i][5] for i in range(len(data14))], dtype=np.float64)), np.var(np.array([data14[i][5] for i in range(len(data14))], dtype=np.float64))"
     ],
     "language": "python",
     "metadata": {},
     "outputs": [
      {
       "output_type": "stream",
       "stream": "stdout",
       "text": [
        "30.4956412826 38.6326012421\n",
        "29.091423221 37.5769938546\n",
        "28.5413043478 47.9326935368\n"
       ]
      }
     ],
     "prompt_number": 16
    },
    {
     "cell_type": "code",
     "collapsed": false,
     "input": [],
     "language": "python",
     "metadata": {},
     "outputs": []
    },
    {
     "cell_type": "markdown",
     "metadata": {},
     "source": [
      "reference\n",
      "===\n",
      "ftp://space.mit.edu/pub/plasma/vgr/v2/ha/key/\n",
      "\n",
      "http://web.mit.edu/afs/athena/org/s/space/www/voyager/voyager_data/voyager_data.html"
     ]
    },
    {
     "cell_type": "code",
     "collapsed": false,
     "input": [],
     "language": "python",
     "metadata": {},
     "outputs": []
    }
   ],
   "metadata": {}
  }
 ]
}