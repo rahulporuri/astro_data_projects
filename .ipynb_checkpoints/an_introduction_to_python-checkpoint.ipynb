{
 "metadata": {
  "name": ""
 },
 "nbformat": 3,
 "nbformat_minor": 0,
 "worksheets": [
  {
   "cells": [
    {
     "cell_type": "markdown",
     "metadata": {},
     "source": [
      "- start with the usual python print hello\n",
      "- python list and operations on list like sum of elements, mean.\n",
      "- introduction to loops.\n",
      "- introduce to numpy arrays\n",
      "- introduce libraries in python and how to use them\n",
      "- interesting libraries\n",
      "- numpy array utilities, convenience functions and numpy operations similar to those done above\n",
      "- array to list and list to array conversion\n",
      "- loading data from a file and saving data to a file\n",
      "- plotting and matplotlib utilities\n",
      "- over plotting and subplots\n",
      "- defining functions and function usage\n",
      "- timeit in python\n",
      "- references\n",
      "- virtual environments\n",
      "- pip and easy_install\n",
      "- working environments. pyide, pycharm, anaconda, canopy, ipython and ipython-notebook to name a few"
     ]
    },
    {
     "cell_type": "markdown",
     "metadata": {},
     "source": [
      ">Know what version you are working with"
     ]
    },
    {
     "cell_type": "code",
     "collapsed": false,
     "input": [
      "import sys\n",
      "print 'the version of python we are using is',(sys.version)"
     ],
     "language": "python",
     "metadata": {},
     "outputs": [
      {
       "output_type": "stream",
       "stream": "stdout",
       "text": [
        "the version of python we are using is 2.7.6 (default, Mar 22 2014, 22:59:38) \n",
        "[GCC 4.8.2]\n"
       ]
      }
     ],
     "prompt_number": 52
    },
    {
     "cell_type": "code",
     "collapsed": false,
     "input": [
      "import numpy\n",
      "import scipy\n",
      "#import numpy as np\n",
      "import matplotlib\n",
      "import matplotlib.pyplot as plt\n",
      "# similar to\n",
      "# #include <stdlib.h> in c"
     ],
     "language": "python",
     "metadata": {},
     "outputs": [
      {
       "output_type": "stream",
       "stream": "stdout",
       "text": [
        "\n"
       ]
      }
     ],
     "prompt_number": 39
    },
    {
     "cell_type": "code",
     "collapsed": false,
     "input": [
      "print 'the version of numpy is ', numpy.version.version, '\\n',\\\n",
      "        'the version of scipy is', scipy.version.version, '\\n',\\\n",
      "        'the version of matplotlib is ', matplotlib.__version__"
     ],
     "language": "python",
     "metadata": {},
     "outputs": [
      {
       "output_type": "stream",
       "stream": "stdout",
       "text": [
        "the version of numpy is  1.8.2 \n",
        "the version of scipy is 0.13.3 \n",
        "the version of matplotlib is  1.4.0\n"
       ]
      }
     ],
     "prompt_number": 56
    },
    {
     "cell_type": "code",
     "collapsed": false,
     "input": [
      "import IPython\n",
      "print 'the version of IPython being used is', IPython.__version__"
     ],
     "language": "python",
     "metadata": {},
     "outputs": [
      {
       "output_type": "stream",
       "stream": "stdout",
       "text": [
        "the version of IPython being used is 1.2.1\n"
       ]
      }
     ],
     "prompt_number": 49
    },
    {
     "cell_type": "markdown",
     "metadata": {},
     "source": [
      ">libraries have the structure\n",
      "\n",
      ">library.module.submodule.function\n",
      "\n",
      "the function plot is in the matplotlib library's pyplot module.\n",
      "\n",
      ">matplotlib.pyplot.plot('args')\n",
      "\n",
      "is how we have to normally call it but instead, by doing\n",
      "\n",
      ">import matplotlib.pyplot as plt\n",
      "\n",
      "we can call it using\n",
      "\n",
      ">plt.plot('args')\n",
      "\n",
      "for convenience."
     ]
    },
    {
     "cell_type": "markdown",
     "metadata": {},
     "source": [
      "virtual env\n",
      "===\n",
      "\n",
      "It might happen that multiple projects that you are working on have dependencies on various libraries of different versions. to avoid such problems and, more generally, for peace of mind and for a good workflow in python, it is suggested one starts working with [python virtual environments](https://virtualenv.pypa.io/en/latest/virtualenv.html). Installation and usage are mentioned in the link aforementioned and virtual environments help isolating your python installation from the system."
     ]
    },
    {
     "cell_type": "markdown",
     "metadata": {},
     "source": [
      "packages or libraries\n",
      "====\n",
      "\n",
      "Coming to installing various packages, it is suggested that one uses package managers such as [pip](https://virtualenv.pypa.io/en/latest/virtualenv.html) or [easy_install](https://virtualenv.pypa.io/en/latest/virtualenv.html) instead of the standard `apt-get install` or `yum install`. It is easier to search for packages using pip and to keep track or delete packages as well."
     ]
    },
    {
     "cell_type": "markdown",
     "metadata": {},
     "source": [
      "Coming to the usage, you can work on python from the command line, from a file or on an IDE. For example [anaconda](https://store.continuum.io/cshop/anaconda), [canopy](https://www.enthought.com/products/canopy/) by Enthought, [PyIDE](http://blog.itopchiyev.com/products/pyide-for-iphone/), [PyCharm](https://www.jetbrains.com/pycharm/) or [IPython](ipython.org/)."
     ]
    },
    {
     "cell_type": "code",
     "collapsed": false,
     "input": [
      "print 'hello world'"
     ],
     "language": "python",
     "metadata": {},
     "outputs": [
      {
       "output_type": "stream",
       "stream": "stdout",
       "text": [
        "hello world\n"
       ]
      }
     ],
     "prompt_number": 3
    },
    {
     "cell_type": "code",
     "collapsed": false,
     "input": [
      "temp = 0\n",
      "for i in range(10):\n",
      "    temp += 1\n",
      "print 'sum of first ten integers = ', temp\n",
      "# note that in python, the loop starts from 0 and ends at n-1\n",
      "# in the above mentioned case, the loop goes from 0 to 9!\n",
      "# operations involving arrays can make use of len(array)\n",
      "array = [1,2,3,4]\n",
      "for i in xrange(len(array)):\n",
      "    '''do something ...'''"
     ],
     "language": "python",
     "metadata": {},
     "outputs": [
      {
       "output_type": "stream",
       "stream": "stdout",
       "text": [
        "sum of first ten integers =  10\n"
       ]
      }
     ],
     "prompt_number": 10
    },
    {
     "cell_type": "code",
     "collapsed": false,
     "input": [
      "%matplotlib inline\n",
      "# is why i love ipython-notebooks\n",
      "# we can embed plots between the code!#"
     ],
     "language": "python",
     "metadata": {},
     "outputs": [],
     "prompt_number": 14
    },
    {
     "cell_type": "code",
     "collapsed": false,
     "input": [
      "plt.plot(array,'o')"
     ],
     "language": "python",
     "metadata": {},
     "outputs": [
      {
       "metadata": {},
       "output_type": "pyout",
       "prompt_number": 17,
       "text": [
        "[<matplotlib.lines.Line2D at 0xb1462e8c>]"
       ]
      },
      {
       "metadata": {},
       "output_type": "display_data",
       "png": "[encoded data removed]",
       "text": [
        "<matplotlib.figure.Figure at 0xb150efcc>"
       ]
      }
     ],
     "prompt_number": 17
    },
    {
     "cell_type": "markdown",
     "metadata": {},
     "source": [
      "coming to arrays, one has two options. a python list or a numpy array. a python list and a numpy array differ on a fundamental level at which they handle. a numpy array stores data in sequential memory addressess where as a python list doesn't. This difference leads to a difference in time that it takes to operate on large arrays. It is suggested that one use numpy arrays instead of python lists for this specific reason.\n",
      "\n",
      "Although, if for whatever reason you are restricted to use python lists, you can convert them to numpy arrays using\n",
      "\n",
      ">numpy.asarray(foolist)\n",
      "\n",
      ". One should also note that most standard libraries work with numpy arrays and will not accept python lists as input. Another reason to stick to numpy arrays from the beginning. For whatever reason, if you need to convert a numpy array to a list, you can do so using \n",
      "\n",
      ">fooarray.tolist()\n",
      "\n",
      "There are numerous convenience functions in numpy to do perform array operations. You can refer to the examples [here](http://docs.scipy.org/doc/numpy/reference/).\n",
      "\n",
      "If you are trying to append an existing array, a commonly used operation,\n",
      "\n",
      ">foolist.append(barvalue)\n",
      "\n",
      "or in the case of numpy arrays\n",
      "\n",
      ">numpy.append(fooarray,barvalue)"
     ]
    },
    {
     "cell_type": "code",
     "collapsed": false,
     "input": [
      "print numpy.array(['foo','bar',1,2,3]), ['foo','bar',1,2,3]"
     ],
     "language": "python",
     "metadata": {},
     "outputs": [
      {
       "output_type": "stream",
       "stream": "stdout",
       "text": [
        "['foo' 'bar' '1' '2' '3'] ['foo', 'bar', 1, 2, 3]\n"
       ]
      }
     ],
     "prompt_number": 28
    },
    {
     "cell_type": "markdown",
     "metadata": {},
     "source": [
      "and finally, coming to sharing your work, you can either use [nbviewer](nbviewer.ipython.org) or you can convert the .ipynb file into a .html or a .py file using the command\n",
      "\n",
      ">$ ipython nbconvert --to html foobar.ipynb"
     ]
    }
   ],
   "metadata": {}
  }
 ]
}